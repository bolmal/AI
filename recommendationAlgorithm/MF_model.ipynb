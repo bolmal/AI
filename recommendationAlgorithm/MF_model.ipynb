{
 "cells": [
  {
   "metadata": {
    "ExecuteTime": {
     "end_time": "2025-02-01T14:18:34.706701Z",
     "start_time": "2025-02-01T14:18:34.454868Z"
    }
   },
   "cell_type": "code",
   "source": [
    "import pandas as pd\n",
    "\n",
    "df = pd.read_csv('interpark_reviews.csv')\n",
    "print(df.columns)"
   ],
   "id": "8cd5d22ffa766e9f",
   "outputs": [
    {
     "name": "stdout",
     "output_type": "stream",
     "text": [
      "Index(['url', 'title', 'review', 'view', 'likes', 'stars', 'blank', 'userid',\n",
      "       'date', 'star_rating'],\n",
      "      dtype='object')\n"
     ]
    }
   ],
   "execution_count": 3
  },
  {
   "metadata": {
    "ExecuteTime": {
     "end_time": "2025-02-01T14:41:24.771016Z",
     "start_time": "2025-02-01T14:41:24.748614Z"
    }
   },
   "cell_type": "code",
   "source": [
    "r_cols = ['title','userid','star_rating']\n",
    "DF = df[r_cols].copy(deep=True)\n",
    "\n",
    "# \"NONAME\"이 포함된 행 제거\n",
    "DF = DF[DF[\"title\"] != \"NO NAME\"]"
   ],
   "id": "c7c538ebefaf93c2",
   "outputs": [
    {
     "name": "stdout",
     "output_type": "stream",
     "text": [
      "                                 title      userid  star_rating\n",
      "0         2024 Someday Christmas in 여수  tmddu***..          5.0\n",
      "1                2024 성시경 연말 콘서트 〈성시경〉  blonc***..          5.0\n",
      "2      2024 영탁 단독 콘서트 “TAK SHOW3” - 부산  sunny***..          5.0\n",
      "3                       벤슨 분 첫 단독 내한공연      zx5***          5.0\n",
      "4  2024-25 이무진 전국투어 콘서트 ［별책부록］ - 서울 앵콜     orol***          5.0\n",
      "(43919, 3)\n"
     ]
    }
   ],
   "execution_count": 7
  },
  {
   "metadata": {
    "ExecuteTime": {
     "end_time": "2025-02-01T14:56:37.494150Z",
     "start_time": "2025-02-01T14:56:37.468249Z"
    }
   },
   "cell_type": "code",
   "source": [
    "# 중복 제거\n",
    "DF = DF.drop_duplicates()\n",
    "print(DF.shape)"
   ],
   "id": "d63a1f0647e49050",
   "outputs": [
    {
     "name": "stdout",
     "output_type": "stream",
     "text": [
      "(36181, 3)\n"
     ]
    }
   ],
   "execution_count": 11
  },
  {
   "metadata": {
    "ExecuteTime": {
     "end_time": "2025-02-01T14:56:45.047094Z",
     "start_time": "2025-02-01T14:56:45.029589Z"
    }
   },
   "cell_type": "code",
   "source": [
    "# user encoding\n",
    "user_dict = {}\n",
    "for user in set(DF[\"userid\"]):\n",
    "    user_dict[user] = len(user_dict)\n",
    "n_users = len(user_dict)\n",
    "print(n_users)"
   ],
   "id": "94ffec00df45db47",
   "outputs": [
    {
     "name": "stdout",
     "output_type": "stream",
     "text": [
      "22257\n"
     ]
    }
   ],
   "execution_count": 12
  },
  {
   "metadata": {
    "ExecuteTime": {
     "end_time": "2025-02-01T15:23:32.195125Z",
     "start_time": "2025-02-01T15:23:28.382925Z"
    }
   },
   "cell_type": "code",
   "source": [
    "# Item encoding\n",
    "from sklearn.utils import shuffle\n",
    "item_dict = {}\n",
    "start_point = n_users\n",
    "for item in set(DF[\"title\"]):\n",
    "    item_dict[item] = start_point + len(item_dict)\n",
    "n_items = len(item_dict)\n",
    "start_point += n_items\n",
    "num_x = start_point\n",
    "DF = shuffle(DF,random_state=1)"
   ],
   "id": "9a8d8b385025ed9c",
   "outputs": [],
   "execution_count": 15
  },
  {
   "metadata": {
    "ExecuteTime": {
     "end_time": "2025-02-01T15:36:47.833739Z",
     "start_time": "2025-02-01T15:36:46.756987Z"
    }
   },
   "cell_type": "code",
   "source": [
    "# generate X data\n",
    "import numpy as np\n",
    "data = [] # 변수 x의 값을 [인덱스,값]의 형태로 저장\n",
    "y = [] # 평점 데이터\n",
    "w0 = np.mean(DF['star_rating']) # 전체 편향값\n",
    "\n",
    "for i in range(len(DF)):\n",
    "    case = DF.iloc[i]\n",
    "    x_index = []\n",
    "    x_value = []\n",
    "    x_index.append(user_dict[case[\"userid\"]]) # user encoding\n",
    "    x_value.append(1)\n",
    "    x_index.append(item_dict[case[\"title\"]])\n",
    "    x_value.append(1)\n",
    "    data.append([x_index, x_value])\n",
    "    y.append(case[\"star_rating\"]-w0)\n",
    "    if (i%5000)==0:\n",
    "        print('Encoding',i,'cases...')"
   ],
   "id": "e437059ec520fef0",
   "outputs": [
    {
     "name": "stdout",
     "output_type": "stream",
     "text": [
      "Encoding 0 cases...\n",
      "Encoding 5000 cases...\n",
      "Encoding 10000 cases...\n",
      "Encoding 15000 cases...\n",
      "Encoding 20000 cases...\n",
      "Encoding 25000 cases...\n",
      "Encoding 30000 cases...\n",
      "Encoding 35000 cases...\n"
     ]
    }
   ],
   "execution_count": 16
  },
  {
   "metadata": {
    "ExecuteTime": {
     "end_time": "2025-02-01T17:06:11.402903Z",
     "start_time": "2025-02-01T17:01:13.174497Z"
    }
   },
   "cell_type": "code",
   "source": [
    "def RMSE(y_true,y_pred):\n",
    "    return np.sqrt(np.mean((np.array(y_true) - np.array(y_pred))**2))\n",
    "\n",
    "# FM 구현\n",
    "class FM() :\n",
    "    def __init__(self,N,K,data,y,alpha,beta,train_ratio = 0.75,\n",
    "                 iterations=100,tolerance=0.005,l2_reg=True,verbose=True):\n",
    "        self.K=K # latent feature의 수\n",
    "        self.N=N # 변수 x의 수\n",
    "        self.n_case = len(data)\n",
    "        self.alpha = alpha # 학습률\n",
    "        self.beta = beta # 정규화 계수\n",
    "        self.iterations = iterations # 반복횟수\n",
    "        self.tolerance = tolerance # 반복을 중단하는 RMSE의 기준인 tolerance\n",
    "        self.l2_reg = l2_reg # 정규화를 할지 여부를 나타내는 값\n",
    "        self.verbose = verbose # 학습 상황을 표시할지 나타내는 값\n",
    "        \n",
    "        # 변수의 편향을 나타내는 w벡터 초기화\n",
    "        self.w = np.random.normal(scale=1./self.N,size = (self.N))\n",
    "        # 잠재요인 행렬 v 초기화\n",
    "        self.v = np.random.normal(scale=1./self.K,size = (self.N,self.K))\n",
    "        \n",
    "        # Train/Test 분리\n",
    "        cutoff = int(train_ratio*len(data))\n",
    "        self.train_x = data[:cutoff]\n",
    "        self.train_y = y[:cutoff]\n",
    "        self.test_x = data[cutoff:]\n",
    "        self.test_y = y[cutoff:]\n",
    "        \n",
    "    # Training 하면서 RMSE 계산\n",
    "    def test(self):\n",
    "        # SGD를 iterations 숫자만큼 진행\n",
    "        best_RMSE = 10000\n",
    "        best_iteration = 0\n",
    "        training_process = []\n",
    "        for i in range(self.iterations):\n",
    "            # SGD & Train RMSE 계산\n",
    "            rmse1 = self.sgd(self.train_x,self.train_y)\n",
    "            # Test RMSE 계산\n",
    "            rmse2 = self.test_rmse(self.test_x,self.test_y)\n",
    "            training_process.append([i,rmse1,rmse2])\n",
    "            \n",
    "            if self.verbose:\n",
    "                if(i+1)%10==0:\n",
    "                    print(\"Iteration: %d ; Train RMSE = %.6f ; Test RMSE = %.6f\" % (i+1,rmse1,rmse2))\n",
    "            \n",
    "            if best_RMSE > rmse2:\n",
    "                best_RMSE = rmse2\n",
    "                best_iteration = i\n",
    "            # RMSE가 정해진 tolerance보다 더 악화되었으면 학습을 중단\n",
    "            elif(rmse2-best_RMSE) > self.tolerance: break\n",
    "        \n",
    "        print(best_iteration,best_RMSE)\n",
    "        return training_process\n",
    "    \n",
    "            \n",
    "    # w,v 업데이트를 위한 Stochastic gradient descent\n",
    "    def sgd(self,x_data,y_data):\n",
    "        y_pred = []\n",
    "        for data,y in zip(x_data,y_data):\n",
    "            x_idx = data[0] # x의 인덱스\n",
    "            x_0 = np.array(data[1]) # 해당 x의 값\n",
    "            x_1 = x_0.reshape(-1,1) # x의 값을 2차원으로 변형 (2차원인 v행렬과 연산을 위해서)\n",
    "            \n",
    "            # 편향값 계산\n",
    "            bias_score = np.sum(self.w[x_idx]*x_0)\n",
    "            \n",
    "            # score 계산\n",
    "            vx = self.v[x_idx] * (x_1) # v matrix * x\n",
    "            sum_vx = np.sum(vx,axis = 0) # sigma(vx)\n",
    "            sum_vx_2 = np.sum(vx*vx,axis = 0) # (v matrix * x)의 제곱\n",
    "            latent_score = 0.5 * np.sum(np.square(sum_vx) - sum_vx_2) # FM 변형식\n",
    "            \n",
    "            # 예측값 계산\n",
    "            y_hat = bias_score + latent_score\n",
    "            y_pred.append(y_hat)\n",
    "            error = y - y_hat\n",
    "            \n",
    "            # w,v 업데이트\n",
    "            if self.l2_reg: # 정규화하는 경우의 업데이트\n",
    "                self.w[x_idx] += error * self.alpha * (x_0 - self.beta * self.w[x_idx])\n",
    "                self.v[x_idx] += error * self.alpha * ((x_1) * sum(vx) - (vx*x_1) - self.beta * self.v[x_idx])\n",
    "            else: # 정규화하지 않는 경우 (update rule)\n",
    "                self.w[x_idx] += error * self.alpha * x_0\n",
    "                self.v[x_idx] += error * self.alpha * ((x_1) * sum(vx) - (vx*x_1))\n",
    "        return RMSE(y_data,y_pred)\n",
    "    \n",
    "    def test_rmse(self,x_data,y_data):\n",
    "        y_pred = []\n",
    "        for data,y in zip(x_data,y_data):\n",
    "            y_hat = self.predict(data[0],data[1])\n",
    "            y_pred.append(y_hat)\n",
    "        return RMSE(y_data,y_pred)\n",
    "        \n",
    "    # 데이터 중 하나의 행에 대한 예측값을 계산하는 함수\n",
    "    # 위의 sgd() 함수에서 계산하는것과 동일\n",
    "    def predict(self,idx,x):\n",
    "        x_0 = np.array(x)\n",
    "        x_1 = x_0.reshape(-1,1)\n",
    "        \n",
    "        # 편향값 계산\n",
    "        bias_score = np.sum(self.w[idx]*x_0)\n",
    "        \n",
    "        # score 계산\n",
    "        vx = self.v[idx] * (x_1)\n",
    "        sum_vx = np.sum(vx,axis = 0)\n",
    "        sum_vx_2 = np.sum(vx*vx,axis = 0)\n",
    "        latent_score = 0.5 * np.sum(np.square(sum_vx) - sum_vx_2)\n",
    "        \n",
    "        # 예측값 계산\n",
    "        y_hat = bias_score + latent_score\n",
    "        return y_hat\n",
    "\n",
    "K = 350\n",
    "fm1 = FM(num_x,K,data,y,alpha=0.0014,beta=0.075,train_ratio=0.75,iterations=200,tolerance=0.005,l2_reg=True,verbose=True)\n",
    "result = fm1.test()\n",
    "        "
   ],
   "id": "5e2c67a5b51e1c03",
   "outputs": [
    {
     "name": "stdout",
     "output_type": "stream",
     "text": [
      "Iteration: 10 ; Train RMSE = 0.563515 ; Test RMSE = 0.594920\n",
      "Iteration: 20 ; Train RMSE = 0.540284 ; Test RMSE = 0.581873\n",
      "Iteration: 30 ; Train RMSE = 0.526311 ; Test RMSE = 0.576901\n",
      "Iteration: 40 ; Train RMSE = 0.515714 ; Test RMSE = 0.574688\n",
      "Iteration: 50 ; Train RMSE = 0.506733 ; Test RMSE = 0.573660\n",
      "Iteration: 60 ; Train RMSE = 0.498690 ; Test RMSE = 0.573228\n",
      "Iteration: 70 ; Train RMSE = 0.491267 ; Test RMSE = 0.573133\n",
      "Iteration: 80 ; Train RMSE = 0.484287 ; Test RMSE = 0.573243\n",
      "Iteration: 90 ; Train RMSE = 0.477634 ; Test RMSE = 0.573483\n",
      "Iteration: 100 ; Train RMSE = 0.471218 ; Test RMSE = 0.573811\n",
      "Iteration: 110 ; Train RMSE = 0.464960 ; Test RMSE = 0.574198\n",
      "Iteration: 120 ; Train RMSE = 0.458781 ; Test RMSE = 0.574624\n",
      "Iteration: 130 ; Train RMSE = 0.452594 ; Test RMSE = 0.575076\n",
      "Iteration: 140 ; Train RMSE = 0.446300 ; Test RMSE = 0.575545\n",
      "Iteration: 150 ; Train RMSE = 0.439794 ; Test RMSE = 0.576022\n",
      "Iteration: 160 ; Train RMSE = 0.432972 ; Test RMSE = 0.576500\n",
      "Iteration: 170 ; Train RMSE = 0.425757 ; Test RMSE = 0.576977\n",
      "Iteration: 180 ; Train RMSE = 0.418128 ; Test RMSE = 0.577450\n",
      "Iteration: 190 ; Train RMSE = 0.410139 ; Test RMSE = 0.577921\n",
      "68 0.5731316013005995\n"
     ]
    }
   ],
   "execution_count": 17
  },
  {
   "metadata": {},
   "cell_type": "markdown",
   "source": [
    "## implicit 데이터를 활용. \n",
    "## wide & deep 모델 + 행렬요인화"
   ],
   "id": "e6f2d8439c64fd1d"
  },
  {
   "metadata": {
    "ExecuteTime": {
     "end_time": "2025-02-09T12:13:00.673516Z",
     "start_time": "2025-02-09T12:12:59.290031Z"
    }
   },
   "cell_type": "code",
   "source": "!pip install tensorflow",
   "id": "33eda9382b5ff084",
   "outputs": [
    {
     "name": "stdout",
     "output_type": "stream",
     "text": [
      "Requirement already satisfied: tensorflow in ./.venv/lib/python3.12/site-packages (2.18.0)\r\n",
      "Requirement already satisfied: absl-py>=1.0.0 in ./.venv/lib/python3.12/site-packages (from tensorflow) (2.1.0)\r\n",
      "Requirement already satisfied: astunparse>=1.6.0 in ./.venv/lib/python3.12/site-packages (from tensorflow) (1.6.3)\r\n",
      "Requirement already satisfied: flatbuffers>=24.3.25 in ./.venv/lib/python3.12/site-packages (from tensorflow) (24.12.23)\r\n",
      "Requirement already satisfied: gast!=0.5.0,!=0.5.1,!=0.5.2,>=0.2.1 in ./.venv/lib/python3.12/site-packages (from tensorflow) (0.6.0)\r\n",
      "Requirement already satisfied: google-pasta>=0.1.1 in ./.venv/lib/python3.12/site-packages (from tensorflow) (0.2.0)\r\n",
      "Requirement already satisfied: libclang>=13.0.0 in ./.venv/lib/python3.12/site-packages (from tensorflow) (18.1.1)\r\n",
      "Requirement already satisfied: opt-einsum>=2.3.2 in ./.venv/lib/python3.12/site-packages (from tensorflow) (3.4.0)\r\n",
      "Requirement already satisfied: packaging in ./.venv/lib/python3.12/site-packages (from tensorflow) (24.2)\r\n",
      "Requirement already satisfied: protobuf!=4.21.0,!=4.21.1,!=4.21.2,!=4.21.3,!=4.21.4,!=4.21.5,<6.0.0dev,>=3.20.3 in ./.venv/lib/python3.12/site-packages (from tensorflow) (5.29.2)\r\n",
      "Requirement already satisfied: requests<3,>=2.21.0 in ./.venv/lib/python3.12/site-packages (from tensorflow) (2.32.3)\r\n",
      "Requirement already satisfied: setuptools in ./.venv/lib/python3.12/site-packages (from tensorflow) (75.6.0)\r\n",
      "Requirement already satisfied: six>=1.12.0 in ./.venv/lib/python3.12/site-packages (from tensorflow) (1.17.0)\r\n",
      "Requirement already satisfied: termcolor>=1.1.0 in ./.venv/lib/python3.12/site-packages (from tensorflow) (2.5.0)\r\n",
      "Requirement already satisfied: typing-extensions>=3.6.6 in ./.venv/lib/python3.12/site-packages (from tensorflow) (4.12.2)\r\n",
      "Requirement already satisfied: wrapt>=1.11.0 in ./.venv/lib/python3.12/site-packages (from tensorflow) (1.17.0)\r\n",
      "Requirement already satisfied: grpcio<2.0,>=1.24.3 in ./.venv/lib/python3.12/site-packages (from tensorflow) (1.69.0)\r\n",
      "Requirement already satisfied: tensorboard<2.19,>=2.18 in ./.venv/lib/python3.12/site-packages (from tensorflow) (2.18.0)\r\n",
      "Requirement already satisfied: keras>=3.5.0 in ./.venv/lib/python3.12/site-packages (from tensorflow) (3.7.0)\r\n",
      "Requirement already satisfied: numpy<2.1.0,>=1.26.0 in ./.venv/lib/python3.12/site-packages (from tensorflow) (2.0.2)\r\n",
      "Requirement already satisfied: h5py>=3.11.0 in ./.venv/lib/python3.12/site-packages (from tensorflow) (3.12.1)\r\n",
      "Requirement already satisfied: ml-dtypes<0.5.0,>=0.4.0 in ./.venv/lib/python3.12/site-packages (from tensorflow) (0.4.1)\r\n",
      "Requirement already satisfied: wheel<1.0,>=0.23.0 in ./.venv/lib/python3.12/site-packages (from astunparse>=1.6.0->tensorflow) (0.45.1)\r\n",
      "Requirement already satisfied: rich in ./.venv/lib/python3.12/site-packages (from keras>=3.5.0->tensorflow) (13.9.4)\r\n",
      "Requirement already satisfied: namex in ./.venv/lib/python3.12/site-packages (from keras>=3.5.0->tensorflow) (0.0.8)\r\n",
      "Requirement already satisfied: optree in ./.venv/lib/python3.12/site-packages (from keras>=3.5.0->tensorflow) (0.13.1)\r\n",
      "Requirement already satisfied: charset-normalizer<4,>=2 in ./.venv/lib/python3.12/site-packages (from requests<3,>=2.21.0->tensorflow) (3.4.1)\r\n",
      "Requirement already satisfied: idna<4,>=2.5 in ./.venv/lib/python3.12/site-packages (from requests<3,>=2.21.0->tensorflow) (3.10)\r\n",
      "Requirement already satisfied: urllib3<3,>=1.21.1 in ./.venv/lib/python3.12/site-packages (from requests<3,>=2.21.0->tensorflow) (2.3.0)\r\n",
      "Requirement already satisfied: certifi>=2017.4.17 in ./.venv/lib/python3.12/site-packages (from requests<3,>=2.21.0->tensorflow) (2024.12.14)\r\n",
      "Requirement already satisfied: markdown>=2.6.8 in ./.venv/lib/python3.12/site-packages (from tensorboard<2.19,>=2.18->tensorflow) (3.7)\r\n",
      "Requirement already satisfied: tensorboard-data-server<0.8.0,>=0.7.0 in ./.venv/lib/python3.12/site-packages (from tensorboard<2.19,>=2.18->tensorflow) (0.7.2)\r\n",
      "Requirement already satisfied: werkzeug>=1.0.1 in ./.venv/lib/python3.12/site-packages (from tensorboard<2.19,>=2.18->tensorflow) (3.1.3)\r\n",
      "Requirement already satisfied: MarkupSafe>=2.1.1 in ./.venv/lib/python3.12/site-packages (from werkzeug>=1.0.1->tensorboard<2.19,>=2.18->tensorflow) (3.0.2)\r\n",
      "Requirement already satisfied: markdown-it-py>=2.2.0 in ./.venv/lib/python3.12/site-packages (from rich->keras>=3.5.0->tensorflow) (3.0.0)\r\n",
      "Requirement already satisfied: pygments<3.0.0,>=2.13.0 in ./.venv/lib/python3.12/site-packages (from rich->keras>=3.5.0->tensorflow) (2.19.0)\r\n",
      "Requirement already satisfied: mdurl~=0.1 in ./.venv/lib/python3.12/site-packages (from markdown-it-py>=2.2.0->rich->keras>=3.5.0->tensorflow) (0.1.2)\r\n",
      "\r\n",
      "\u001B[1m[\u001B[0m\u001B[34;49mnotice\u001B[0m\u001B[1;39;49m]\u001B[0m\u001B[39;49m A new release of pip is available: \u001B[0m\u001B[31;49m24.3.1\u001B[0m\u001B[39;49m -> \u001B[0m\u001B[32;49m25.0\u001B[0m\r\n",
      "\u001B[1m[\u001B[0m\u001B[34;49mnotice\u001B[0m\u001B[1;39;49m]\u001B[0m\u001B[39;49m To update, run: \u001B[0m\u001B[32;49mpip install --upgrade pip\u001B[0m\r\n",
      "Requirement already satisfied: keras in ./.venv/lib/python3.12/site-packages (3.7.0)\r\n",
      "Requirement already satisfied: absl-py in ./.venv/lib/python3.12/site-packages (from keras) (2.1.0)\r\n",
      "Requirement already satisfied: numpy in ./.venv/lib/python3.12/site-packages (from keras) (2.0.2)\r\n",
      "Requirement already satisfied: rich in ./.venv/lib/python3.12/site-packages (from keras) (13.9.4)\r\n",
      "Requirement already satisfied: namex in ./.venv/lib/python3.12/site-packages (from keras) (0.0.8)\r\n",
      "Requirement already satisfied: h5py in ./.venv/lib/python3.12/site-packages (from keras) (3.12.1)\r\n",
      "Requirement already satisfied: optree in ./.venv/lib/python3.12/site-packages (from keras) (0.13.1)\r\n",
      "Requirement already satisfied: ml-dtypes in ./.venv/lib/python3.12/site-packages (from keras) (0.4.1)\r\n",
      "Requirement already satisfied: packaging in ./.venv/lib/python3.12/site-packages (from keras) (24.2)\r\n",
      "Requirement already satisfied: typing-extensions>=4.5.0 in ./.venv/lib/python3.12/site-packages (from optree->keras) (4.12.2)\r\n",
      "Requirement already satisfied: markdown-it-py>=2.2.0 in ./.venv/lib/python3.12/site-packages (from rich->keras) (3.0.0)\r\n",
      "Requirement already satisfied: pygments<3.0.0,>=2.13.0 in ./.venv/lib/python3.12/site-packages (from rich->keras) (2.19.0)\r\n",
      "Requirement already satisfied: mdurl~=0.1 in ./.venv/lib/python3.12/site-packages (from markdown-it-py>=2.2.0->rich->keras) (0.1.2)\r\n",
      "\r\n",
      "\u001B[1m[\u001B[0m\u001B[34;49mnotice\u001B[0m\u001B[1;39;49m]\u001B[0m\u001B[39;49m A new release of pip is available: \u001B[0m\u001B[31;49m24.3.1\u001B[0m\u001B[39;49m -> \u001B[0m\u001B[32;49m25.0\u001B[0m\r\n",
      "\u001B[1m[\u001B[0m\u001B[34;49mnotice\u001B[0m\u001B[1;39;49m]\u001B[0m\u001B[39;49m To update, run: \u001B[0m\u001B[32;49mpip install --upgrade pip\u001B[0m\r\n"
     ]
    }
   ],
   "execution_count": 20
  },
  {
   "metadata": {
    "ExecuteTime": {
     "end_time": "2025-02-09T12:23:30.867629Z",
     "start_time": "2025-02-09T12:23:30.835525Z"
    }
   },
   "cell_type": "code",
   "source": [
    "import tensorflow as tf\n",
    "from tensorflow.keras.models import Model\n",
    "from tensorflow.keras.layers import Input, Embedding, Dot, Add, Flatten, Dense, Concatenate, Activation\n",
    "from tensorflow.keras.regularizers import l2\n",
    "from tensorflow.keras.optimizers import SGD, Adam, Adamax\n",
    "\n",
    "# 유저 및 아이템 임베딩 크기 설정\n",
    "embedding_dim = 5 # 작은 데이터셋 (수천~수만 개의 샘플)\n",
    "\n",
    "# 유저 입력 (성별, 나이, 선호 장르, 선호 분위기, 선호 스타일, 선호 타입)\n",
    "gender_input = Input(shape=(1,))\n",
    "age_input = Input(shape=(1,))  # 연속형 변수\n",
    "pref_genre_input = Input(shape=(1,))\n",
    "pref_mood_input = Input(shape=(1,))\n",
    "pref_style_input = Input(shape=(1,))\n",
    "pref_type_input = Input(shape=(1,))\n",
    "\n",
    "gender_embedding = Embedding(input_dim=num_genders, output_dim=2)(gender_input)\n",
    "pref_genre_embedding = Embedding(input_dim=num_genres, output_dim=8)(pref_genre_input)\n",
    "pref_mood_embedding = Embedding(input_dim=num_moods, output_dim=4)(pref_mood_input)\n",
    "pref_style_embedding = Embedding(input_dim=num_styles, output_dim=4)(pref_style_input)\n",
    "pref_type_embedding = Embedding(input_dim=num_types, output_dim=4)(pref_type_input)\n",
    "\n",
    "# 아이템 입력 (장르, 분위기, 스타일, 타입, 시간, 장소)\n",
    "item_genre_input = Input(shape=(1,))\n",
    "item_mood_input = Input(shape=(1,))\n",
    "item_style_input = Input(shape=(1,))\n",
    "item_type_input = Input(shape=(1,))\n",
    "time_input = Input(shape=(1,))  # 연속형 변수\n",
    "place_input = Input(shape=(1,))\n",
    "\n",
    "item_genre_embedding = Embedding(input_dim=num_genres, output_dim=8)(item_genre_input)\n",
    "item_mood_embedding = Embedding(input_dim=num_moods, output_dim=4)(item_mood_input)\n",
    "item_style_embedding = Embedding(input_dim=num_styles, output_dim=4)(item_style_input)\n",
    "item_type_embedding = Embedding(input_dim=num_types, output_dim=4)(item_type_input)\n",
    "place_embedding = Embedding(input_dim=num_places, output_dim=4)(place_input)\n",
    "\n",
    "# 사용자 행동 입력 (조회수, 즐겨찾기 유무)\n",
    "view_count_input = Input(shape=(1,))  # 연속형 변수\n",
    "favorite_input = Input(shape=(1,))    # 이진 변수\n",
    "\n",
    "# Flatten all embeddings\n",
    "flattened_embeddings = [\n",
    "    Flatten()(gender_embedding),\n",
    "    Flatten()(pref_genre_embedding),\n",
    "    Flatten()(pref_mood_embedding),\n",
    "    Flatten()(pref_style_embedding),\n",
    "    Flatten()(pref_type_embedding),\n",
    "    Flatten()(item_genre_embedding),\n",
    "    Flatten()(item_mood_embedding),\n",
    "    Flatten()(item_style_embedding),\n",
    "    Flatten()(item_type_embedding),\n",
    "    Flatten()(place_embedding)\n",
    "]\n",
    "\n",
    "# 연속형 변수들은 그대로 사용\n",
    "continuous_features = [\n",
    "    age_input,\n",
    "    time_input,\n",
    "    view_count_input,\n",
    "    favorite_input\n",
    "]"
   ],
   "id": "510db903f3dd2a7",
   "outputs": [],
   "execution_count": 26
  },
  {
   "metadata": {
    "ExecuteTime": {
     "end_time": "2025-02-09T12:26:07.712884Z",
     "start_time": "2025-02-09T12:26:07.679180Z"
    }
   },
   "cell_type": "code",
   "source": [
    "# Wide 부분 (선형 회귀)\n",
    "wide_features = Concatenate()([user_input, item_input, behavior_input])\n",
    "wide_output = Dense(1, activation='sigmoid')(wide_features)"
   ],
   "id": "bf305363633a384d",
   "outputs": [],
   "execution_count": 27
  },
  {
   "metadata": {
    "ExecuteTime": {
     "end_time": "2025-02-09T12:40:41.932096Z",
     "start_time": "2025-02-09T12:40:41.903754Z"
    }
   },
   "cell_type": "code",
   "source": [
    "# Deep 부분\n",
    "deep_features = Concatenate()([user_embedding, item_embedding, behavior_dense])\n",
    "deep_output = Dense(128, activation='relu')(deep_features)\n",
    "deep_output = Dense(64, activation='relu')(deep_output)\n",
    "deep_output = Dense(1)(deep_output)"
   ],
   "id": "6af4800a638e8211",
   "outputs": [],
   "execution_count": 28
  },
  {
   "metadata": {
    "ExecuteTime": {
     "end_time": "2025-02-09T12:52:34.490991Z",
     "start_time": "2025-02-09T12:52:34.451826Z"
    }
   },
   "cell_type": "code",
   "source": [
    "# Wide & Deep 결합\n",
    "final_output = Concatenate()([wide_output, deep_output])\n",
    "final_output = Dense(1, activation='sigmoid')(final_output)\n",
    "\n",
    "model = Model(inputs=[user_input, item_input, behavior_input], outputs=final_output)\n",
    "model.compile(\n",
    "    optimizer='adam', \n",
    "    loss='binary_crossentropy', # 이진 크로스엔트로피 -> 공연을 좋아할 확률을 나타내기 때문\n",
    "    metrics=['AUC-ROC', 'Precision', 'Recall']\n",
    ")\n",
    "model.summary()"
   ],
   "id": "58fe975d98e5c8ca",
   "outputs": [
    {
     "data": {
      "text/plain": [
       "\u001B[1mModel: \"functional\"\u001B[0m\n"
      ],
      "text/html": [
       "<pre style=\"white-space:pre;overflow-x:auto;line-height:normal;font-family:Menlo,'DejaVu Sans Mono',consolas,'Courier New',monospace\"><span style=\"font-weight: bold\">Model: \"functional\"</span>\n",
       "</pre>\n"
      ]
     },
     "metadata": {},
     "output_type": "display_data"
    },
    {
     "data": {
      "text/plain": [
       "┏━━━━━━━━━━━━━━━━━━━━━┳━━━━━━━━━━━━━━━━━━━┳━━━━━━━━━━━━┳━━━━━━━━━━━━━━━━━━━┓\n",
       "┃\u001B[1m \u001B[0m\u001B[1mLayer (type)       \u001B[0m\u001B[1m \u001B[0m┃\u001B[1m \u001B[0m\u001B[1mOutput Shape     \u001B[0m\u001B[1m \u001B[0m┃\u001B[1m \u001B[0m\u001B[1m   Param #\u001B[0m\u001B[1m \u001B[0m┃\u001B[1m \u001B[0m\u001B[1mConnected to     \u001B[0m\u001B[1m \u001B[0m┃\n",
       "┡━━━━━━━━━━━━━━━━━━━━━╇━━━━━━━━━━━━━━━━━━━╇━━━━━━━━━━━━╇━━━━━━━━━━━━━━━━━━━┩\n",
       "│ input_layer_10      │ (\u001B[38;5;45mNone\u001B[0m, \u001B[38;5;34m6\u001B[0m)         │          \u001B[38;5;34m0\u001B[0m │ -                 │\n",
       "│ (\u001B[38;5;33mInputLayer\u001B[0m)        │                   │            │                   │\n",
       "├─────────────────────┼───────────────────┼────────────┼───────────────────┤\n",
       "│ input_layer_11      │ (\u001B[38;5;45mNone\u001B[0m, \u001B[38;5;34m6\u001B[0m)         │          \u001B[38;5;34m0\u001B[0m │ -                 │\n",
       "│ (\u001B[38;5;33mInputLayer\u001B[0m)        │                   │            │                   │\n",
       "├─────────────────────┼───────────────────┼────────────┼───────────────────┤\n",
       "│ input_layer_12      │ (\u001B[38;5;45mNone\u001B[0m, \u001B[38;5;34m2\u001B[0m)         │          \u001B[38;5;34m0\u001B[0m │ -                 │\n",
       "│ (\u001B[38;5;33mInputLayer\u001B[0m)        │                   │            │                   │\n",
       "├─────────────────────┼───────────────────┼────────────┼───────────────────┤\n",
       "│ dense_6 (\u001B[38;5;33mDense\u001B[0m)     │ (\u001B[38;5;45mNone\u001B[0m, \u001B[38;5;34m8\u001B[0m)         │         \u001B[38;5;34m56\u001B[0m │ input_layer_10[\u001B[38;5;34m0\u001B[0m… │\n",
       "├─────────────────────┼───────────────────┼────────────┼───────────────────┤\n",
       "│ dense_7 (\u001B[38;5;33mDense\u001B[0m)     │ (\u001B[38;5;45mNone\u001B[0m, \u001B[38;5;34m8\u001B[0m)         │         \u001B[38;5;34m56\u001B[0m │ input_layer_11[\u001B[38;5;34m0\u001B[0m… │\n",
       "├─────────────────────┼───────────────────┼────────────┼───────────────────┤\n",
       "│ dense_8 (\u001B[38;5;33mDense\u001B[0m)     │ (\u001B[38;5;45mNone\u001B[0m, \u001B[38;5;34m4\u001B[0m)         │         \u001B[38;5;34m12\u001B[0m │ input_layer_12[\u001B[38;5;34m0\u001B[0m… │\n",
       "├─────────────────────┼───────────────────┼────────────┼───────────────────┤\n",
       "│ concatenate_1       │ (\u001B[38;5;45mNone\u001B[0m, \u001B[38;5;34m20\u001B[0m)        │          \u001B[38;5;34m0\u001B[0m │ dense_6[\u001B[38;5;34m0\u001B[0m][\u001B[38;5;34m0\u001B[0m],    │\n",
       "│ (\u001B[38;5;33mConcatenate\u001B[0m)       │                   │            │ dense_7[\u001B[38;5;34m0\u001B[0m][\u001B[38;5;34m0\u001B[0m],    │\n",
       "│                     │                   │            │ dense_8[\u001B[38;5;34m0\u001B[0m][\u001B[38;5;34m0\u001B[0m]     │\n",
       "├─────────────────────┼───────────────────┼────────────┼───────────────────┤\n",
       "│ dense_10 (\u001B[38;5;33mDense\u001B[0m)    │ (\u001B[38;5;45mNone\u001B[0m, \u001B[38;5;34m128\u001B[0m)       │      \u001B[38;5;34m2,688\u001B[0m │ concatenate_1[\u001B[38;5;34m0\u001B[0m]… │\n",
       "├─────────────────────┼───────────────────┼────────────┼───────────────────┤\n",
       "│ concatenate         │ (\u001B[38;5;45mNone\u001B[0m, \u001B[38;5;34m14\u001B[0m)        │          \u001B[38;5;34m0\u001B[0m │ input_layer_10[\u001B[38;5;34m0\u001B[0m… │\n",
       "│ (\u001B[38;5;33mConcatenate\u001B[0m)       │                   │            │ input_layer_11[\u001B[38;5;34m0\u001B[0m… │\n",
       "│                     │                   │            │ input_layer_12[\u001B[38;5;34m0\u001B[0m… │\n",
       "├─────────────────────┼───────────────────┼────────────┼───────────────────┤\n",
       "│ dense_11 (\u001B[38;5;33mDense\u001B[0m)    │ (\u001B[38;5;45mNone\u001B[0m, \u001B[38;5;34m64\u001B[0m)        │      \u001B[38;5;34m8,256\u001B[0m │ dense_10[\u001B[38;5;34m0\u001B[0m][\u001B[38;5;34m0\u001B[0m]    │\n",
       "├─────────────────────┼───────────────────┼────────────┼───────────────────┤\n",
       "│ dense_9 (\u001B[38;5;33mDense\u001B[0m)     │ (\u001B[38;5;45mNone\u001B[0m, \u001B[38;5;34m1\u001B[0m)         │         \u001B[38;5;34m15\u001B[0m │ concatenate[\u001B[38;5;34m0\u001B[0m][\u001B[38;5;34m0\u001B[0m] │\n",
       "├─────────────────────┼───────────────────┼────────────┼───────────────────┤\n",
       "│ dense_12 (\u001B[38;5;33mDense\u001B[0m)    │ (\u001B[38;5;45mNone\u001B[0m, \u001B[38;5;34m1\u001B[0m)         │         \u001B[38;5;34m65\u001B[0m │ dense_11[\u001B[38;5;34m0\u001B[0m][\u001B[38;5;34m0\u001B[0m]    │\n",
       "├─────────────────────┼───────────────────┼────────────┼───────────────────┤\n",
       "│ concatenate_2       │ (\u001B[38;5;45mNone\u001B[0m, \u001B[38;5;34m2\u001B[0m)         │          \u001B[38;5;34m0\u001B[0m │ dense_9[\u001B[38;5;34m0\u001B[0m][\u001B[38;5;34m0\u001B[0m],    │\n",
       "│ (\u001B[38;5;33mConcatenate\u001B[0m)       │                   │            │ dense_12[\u001B[38;5;34m0\u001B[0m][\u001B[38;5;34m0\u001B[0m]    │\n",
       "├─────────────────────┼───────────────────┼────────────┼───────────────────┤\n",
       "│ dense_13 (\u001B[38;5;33mDense\u001B[0m)    │ (\u001B[38;5;45mNone\u001B[0m, \u001B[38;5;34m1\u001B[0m)         │          \u001B[38;5;34m3\u001B[0m │ concatenate_2[\u001B[38;5;34m0\u001B[0m]… │\n",
       "└─────────────────────┴───────────────────┴────────────┴───────────────────┘\n"
      ],
      "text/html": [
       "<pre style=\"white-space:pre;overflow-x:auto;line-height:normal;font-family:Menlo,'DejaVu Sans Mono',consolas,'Courier New',monospace\">┏━━━━━━━━━━━━━━━━━━━━━┳━━━━━━━━━━━━━━━━━━━┳━━━━━━━━━━━━┳━━━━━━━━━━━━━━━━━━━┓\n",
       "┃<span style=\"font-weight: bold\"> Layer (type)        </span>┃<span style=\"font-weight: bold\"> Output Shape      </span>┃<span style=\"font-weight: bold\">    Param # </span>┃<span style=\"font-weight: bold\"> Connected to      </span>┃\n",
       "┡━━━━━━━━━━━━━━━━━━━━━╇━━━━━━━━━━━━━━━━━━━╇━━━━━━━━━━━━╇━━━━━━━━━━━━━━━━━━━┩\n",
       "│ input_layer_10      │ (<span style=\"color: #00d7ff; text-decoration-color: #00d7ff\">None</span>, <span style=\"color: #00af00; text-decoration-color: #00af00\">6</span>)         │          <span style=\"color: #00af00; text-decoration-color: #00af00\">0</span> │ -                 │\n",
       "│ (<span style=\"color: #0087ff; text-decoration-color: #0087ff\">InputLayer</span>)        │                   │            │                   │\n",
       "├─────────────────────┼───────────────────┼────────────┼───────────────────┤\n",
       "│ input_layer_11      │ (<span style=\"color: #00d7ff; text-decoration-color: #00d7ff\">None</span>, <span style=\"color: #00af00; text-decoration-color: #00af00\">6</span>)         │          <span style=\"color: #00af00; text-decoration-color: #00af00\">0</span> │ -                 │\n",
       "│ (<span style=\"color: #0087ff; text-decoration-color: #0087ff\">InputLayer</span>)        │                   │            │                   │\n",
       "├─────────────────────┼───────────────────┼────────────┼───────────────────┤\n",
       "│ input_layer_12      │ (<span style=\"color: #00d7ff; text-decoration-color: #00d7ff\">None</span>, <span style=\"color: #00af00; text-decoration-color: #00af00\">2</span>)         │          <span style=\"color: #00af00; text-decoration-color: #00af00\">0</span> │ -                 │\n",
       "│ (<span style=\"color: #0087ff; text-decoration-color: #0087ff\">InputLayer</span>)        │                   │            │                   │\n",
       "├─────────────────────┼───────────────────┼────────────┼───────────────────┤\n",
       "│ dense_6 (<span style=\"color: #0087ff; text-decoration-color: #0087ff\">Dense</span>)     │ (<span style=\"color: #00d7ff; text-decoration-color: #00d7ff\">None</span>, <span style=\"color: #00af00; text-decoration-color: #00af00\">8</span>)         │         <span style=\"color: #00af00; text-decoration-color: #00af00\">56</span> │ input_layer_10[<span style=\"color: #00af00; text-decoration-color: #00af00\">0</span>… │\n",
       "├─────────────────────┼───────────────────┼────────────┼───────────────────┤\n",
       "│ dense_7 (<span style=\"color: #0087ff; text-decoration-color: #0087ff\">Dense</span>)     │ (<span style=\"color: #00d7ff; text-decoration-color: #00d7ff\">None</span>, <span style=\"color: #00af00; text-decoration-color: #00af00\">8</span>)         │         <span style=\"color: #00af00; text-decoration-color: #00af00\">56</span> │ input_layer_11[<span style=\"color: #00af00; text-decoration-color: #00af00\">0</span>… │\n",
       "├─────────────────────┼───────────────────┼────────────┼───────────────────┤\n",
       "│ dense_8 (<span style=\"color: #0087ff; text-decoration-color: #0087ff\">Dense</span>)     │ (<span style=\"color: #00d7ff; text-decoration-color: #00d7ff\">None</span>, <span style=\"color: #00af00; text-decoration-color: #00af00\">4</span>)         │         <span style=\"color: #00af00; text-decoration-color: #00af00\">12</span> │ input_layer_12[<span style=\"color: #00af00; text-decoration-color: #00af00\">0</span>… │\n",
       "├─────────────────────┼───────────────────┼────────────┼───────────────────┤\n",
       "│ concatenate_1       │ (<span style=\"color: #00d7ff; text-decoration-color: #00d7ff\">None</span>, <span style=\"color: #00af00; text-decoration-color: #00af00\">20</span>)        │          <span style=\"color: #00af00; text-decoration-color: #00af00\">0</span> │ dense_6[<span style=\"color: #00af00; text-decoration-color: #00af00\">0</span>][<span style=\"color: #00af00; text-decoration-color: #00af00\">0</span>],    │\n",
       "│ (<span style=\"color: #0087ff; text-decoration-color: #0087ff\">Concatenate</span>)       │                   │            │ dense_7[<span style=\"color: #00af00; text-decoration-color: #00af00\">0</span>][<span style=\"color: #00af00; text-decoration-color: #00af00\">0</span>],    │\n",
       "│                     │                   │            │ dense_8[<span style=\"color: #00af00; text-decoration-color: #00af00\">0</span>][<span style=\"color: #00af00; text-decoration-color: #00af00\">0</span>]     │\n",
       "├─────────────────────┼───────────────────┼────────────┼───────────────────┤\n",
       "│ dense_10 (<span style=\"color: #0087ff; text-decoration-color: #0087ff\">Dense</span>)    │ (<span style=\"color: #00d7ff; text-decoration-color: #00d7ff\">None</span>, <span style=\"color: #00af00; text-decoration-color: #00af00\">128</span>)       │      <span style=\"color: #00af00; text-decoration-color: #00af00\">2,688</span> │ concatenate_1[<span style=\"color: #00af00; text-decoration-color: #00af00\">0</span>]… │\n",
       "├─────────────────────┼───────────────────┼────────────┼───────────────────┤\n",
       "│ concatenate         │ (<span style=\"color: #00d7ff; text-decoration-color: #00d7ff\">None</span>, <span style=\"color: #00af00; text-decoration-color: #00af00\">14</span>)        │          <span style=\"color: #00af00; text-decoration-color: #00af00\">0</span> │ input_layer_10[<span style=\"color: #00af00; text-decoration-color: #00af00\">0</span>… │\n",
       "│ (<span style=\"color: #0087ff; text-decoration-color: #0087ff\">Concatenate</span>)       │                   │            │ input_layer_11[<span style=\"color: #00af00; text-decoration-color: #00af00\">0</span>… │\n",
       "│                     │                   │            │ input_layer_12[<span style=\"color: #00af00; text-decoration-color: #00af00\">0</span>… │\n",
       "├─────────────────────┼───────────────────┼────────────┼───────────────────┤\n",
       "│ dense_11 (<span style=\"color: #0087ff; text-decoration-color: #0087ff\">Dense</span>)    │ (<span style=\"color: #00d7ff; text-decoration-color: #00d7ff\">None</span>, <span style=\"color: #00af00; text-decoration-color: #00af00\">64</span>)        │      <span style=\"color: #00af00; text-decoration-color: #00af00\">8,256</span> │ dense_10[<span style=\"color: #00af00; text-decoration-color: #00af00\">0</span>][<span style=\"color: #00af00; text-decoration-color: #00af00\">0</span>]    │\n",
       "├─────────────────────┼───────────────────┼────────────┼───────────────────┤\n",
       "│ dense_9 (<span style=\"color: #0087ff; text-decoration-color: #0087ff\">Dense</span>)     │ (<span style=\"color: #00d7ff; text-decoration-color: #00d7ff\">None</span>, <span style=\"color: #00af00; text-decoration-color: #00af00\">1</span>)         │         <span style=\"color: #00af00; text-decoration-color: #00af00\">15</span> │ concatenate[<span style=\"color: #00af00; text-decoration-color: #00af00\">0</span>][<span style=\"color: #00af00; text-decoration-color: #00af00\">0</span>] │\n",
       "├─────────────────────┼───────────────────┼────────────┼───────────────────┤\n",
       "│ dense_12 (<span style=\"color: #0087ff; text-decoration-color: #0087ff\">Dense</span>)    │ (<span style=\"color: #00d7ff; text-decoration-color: #00d7ff\">None</span>, <span style=\"color: #00af00; text-decoration-color: #00af00\">1</span>)         │         <span style=\"color: #00af00; text-decoration-color: #00af00\">65</span> │ dense_11[<span style=\"color: #00af00; text-decoration-color: #00af00\">0</span>][<span style=\"color: #00af00; text-decoration-color: #00af00\">0</span>]    │\n",
       "├─────────────────────┼───────────────────┼────────────┼───────────────────┤\n",
       "│ concatenate_2       │ (<span style=\"color: #00d7ff; text-decoration-color: #00d7ff\">None</span>, <span style=\"color: #00af00; text-decoration-color: #00af00\">2</span>)         │          <span style=\"color: #00af00; text-decoration-color: #00af00\">0</span> │ dense_9[<span style=\"color: #00af00; text-decoration-color: #00af00\">0</span>][<span style=\"color: #00af00; text-decoration-color: #00af00\">0</span>],    │\n",
       "│ (<span style=\"color: #0087ff; text-decoration-color: #0087ff\">Concatenate</span>)       │                   │            │ dense_12[<span style=\"color: #00af00; text-decoration-color: #00af00\">0</span>][<span style=\"color: #00af00; text-decoration-color: #00af00\">0</span>]    │\n",
       "├─────────────────────┼───────────────────┼────────────┼───────────────────┤\n",
       "│ dense_13 (<span style=\"color: #0087ff; text-decoration-color: #0087ff\">Dense</span>)    │ (<span style=\"color: #00d7ff; text-decoration-color: #00d7ff\">None</span>, <span style=\"color: #00af00; text-decoration-color: #00af00\">1</span>)         │          <span style=\"color: #00af00; text-decoration-color: #00af00\">3</span> │ concatenate_2[<span style=\"color: #00af00; text-decoration-color: #00af00\">0</span>]… │\n",
       "└─────────────────────┴───────────────────┴────────────┴───────────────────┘\n",
       "</pre>\n"
      ]
     },
     "metadata": {},
     "output_type": "display_data"
    },
    {
     "data": {
      "text/plain": [
       "\u001B[1m Total params: \u001B[0m\u001B[38;5;34m11,151\u001B[0m (43.56 KB)\n"
      ],
      "text/html": [
       "<pre style=\"white-space:pre;overflow-x:auto;line-height:normal;font-family:Menlo,'DejaVu Sans Mono',consolas,'Courier New',monospace\"><span style=\"font-weight: bold\"> Total params: </span><span style=\"color: #00af00; text-decoration-color: #00af00\">11,151</span> (43.56 KB)\n",
       "</pre>\n"
      ]
     },
     "metadata": {},
     "output_type": "display_data"
    },
    {
     "data": {
      "text/plain": [
       "\u001B[1m Trainable params: \u001B[0m\u001B[38;5;34m11,151\u001B[0m (43.56 KB)\n"
      ],
      "text/html": [
       "<pre style=\"white-space:pre;overflow-x:auto;line-height:normal;font-family:Menlo,'DejaVu Sans Mono',consolas,'Courier New',monospace\"><span style=\"font-weight: bold\"> Trainable params: </span><span style=\"color: #00af00; text-decoration-color: #00af00\">11,151</span> (43.56 KB)\n",
       "</pre>\n"
      ]
     },
     "metadata": {},
     "output_type": "display_data"
    },
    {
     "data": {
      "text/plain": [
       "\u001B[1m Non-trainable params: \u001B[0m\u001B[38;5;34m0\u001B[0m (0.00 B)\n"
      ],
      "text/html": [
       "<pre style=\"white-space:pre;overflow-x:auto;line-height:normal;font-family:Menlo,'DejaVu Sans Mono',consolas,'Courier New',monospace\"><span style=\"font-weight: bold\"> Non-trainable params: </span><span style=\"color: #00af00; text-decoration-color: #00af00\">0</span> (0.00 B)\n",
       "</pre>\n"
      ]
     },
     "metadata": {},
     "output_type": "display_data"
    }
   ],
   "execution_count": 29
  }
 ],
 "metadata": {
  "kernelspec": {
   "display_name": "Python 3",
   "language": "python",
   "name": "python3"
  },
  "language_info": {
   "codemirror_mode": {
    "name": "ipython",
    "version": 2
   },
   "file_extension": ".py",
   "mimetype": "text/x-python",
   "name": "python",
   "nbconvert_exporter": "python",
   "pygments_lexer": "ipython2",
   "version": "2.7.6"
  }
 },
 "nbformat": 4,
 "nbformat_minor": 5
}
